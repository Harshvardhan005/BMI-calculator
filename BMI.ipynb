{
 "cells": [
  {
   "cell_type": "code",
   "execution_count": 1,
   "id": "783a99f8-ac3d-4842-a179-54f7ac400cf3",
   "metadata": {},
   "outputs": [
    {
     "name": "stdin",
     "output_type": "stream",
     "text": [
      "Enter your height in m: 1.69\n",
      "Enter your weight in kg: 65\n"
     ]
    },
    {
     "name": "stdout",
     "output_type": "stream",
     "text": [
      "Your bmi is : 22.76\n"
     ]
    }
   ],
   "source": [
    "\n",
    "#BMI CALCULATOR\n",
    "#you just have to put your height in there and your weight then boom here is your Body Mass Index\n",
    "\n",
    "height = float(input(\"Enter your height in m:\"))\n",
    "weight = float(input(\"Enter your weight in kg:\"))\n",
    "bmi = weight/ height **2\n",
    "bmi = round(bmi,2)\n",
    "print(f\"Your bmi is : {bmi}\")"
   ]
  },
  {
   "cell_type": "code",
   "execution_count": null,
   "id": "bebe4ab3-e9b1-4c29-ad27-dbccf96239a0",
   "metadata": {},
   "outputs": [],
   "source": []
  }
 ],
 "metadata": {
  "kernelspec": {
   "display_name": "Python [conda env:base] *",
   "language": "python",
   "name": "conda-base-py"
  },
  "language_info": {
   "codemirror_mode": {
    "name": "ipython",
    "version": 3
   },
   "file_extension": ".py",
   "mimetype": "text/x-python",
   "name": "python",
   "nbconvert_exporter": "python",
   "pygments_lexer": "ipython3",
   "version": "3.12.7"
  }
 },
 "nbformat": 4,
 "nbformat_minor": 5
}
